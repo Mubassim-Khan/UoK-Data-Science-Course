{
 "cells": [
  {
   "cell_type": "markdown",
   "metadata": {},
   "source": [
    "### Love Score (Compatibility Test between 2 people)"
   ]
  },
  {
   "cell_type": "code",
   "execution_count": 73,
   "metadata": {},
   "outputs": [
    {
     "name": "stdout",
     "output_type": "stream",
     "text": [
      "Entered name:  david beckham\n",
      "Entered name:  victoria beckham\n",
      "The Love Calculator is calculating your score...\n",
      "Your score is 45, you are alright together.\n"
     ]
    }
   ],
   "source": [
    "name1 = input(\"Enter name of 1st person: \").lower()\n",
    "print(\"Entered name: \", name1)\n",
    "name2 = input(\"Enter name of 1st person: \").lower()\n",
    "print(\"Entered name: \", name2)\n",
    "\n",
    "print(\"The Love Calculator is calculating your score...\")\n",
    "\n",
    "# Calculation of 1st person score\n",
    "scoreOf1 = 0\n",
    "word = \"true\"\n",
    "for i in word:\n",
    "    scoreOf1 += name1.count(i)\n",
    "    scoreOf1 += name2.count(i)\n",
    "\n",
    "# Calculation of 2nd person score\n",
    "scoreOf2 = 0\n",
    "word = \"love\"\n",
    "for i in word:\n",
    "    scoreOf2 += name1.count(i)\n",
    "    scoreOf2 += name2.count(i)\n",
    "\n",
    "# Sum of score\n",
    "totalScore = int(str(scoreOf1) + str(scoreOf2))\n",
    "\n",
    "# Message on the basis of score\n",
    "if 10 < totalScore > 90:\n",
    "    print(f\"Your score is {totalScore}, you go together like coke and mentos.\")\n",
    "elif 40 < totalScore < 50:\n",
    "    print(f\"Your score is {totalScore}, you are alright together.\")\n",
    "else:\n",
    "    print(f\"Your score is {totalScore}.\")"
   ]
  },
  {
   "cell_type": "markdown",
   "metadata": {},
   "source": [
    "### Virtual Coin Toss"
   ]
  },
  {
   "cell_type": "code",
   "execution_count": 64,
   "metadata": {},
   "outputs": [
    {
     "name": "stdout",
     "output_type": "stream",
     "text": [
      "Heads\n"
     ]
    }
   ],
   "source": [
    "import random\n",
    "\n",
    "# Generate random no b/w 0 & 1\n",
    "randomNo = random.randint(0, 1)\n",
    "\n",
    "# Comparision of random generated number\n",
    "if(randomNo == 0):\n",
    "    print(\"Tails\")\n",
    "else:\n",
    "    print(\"Heads\")\n"
   ]
  },
  {
   "cell_type": "markdown",
   "metadata": {},
   "source": [
    "### Treasure Island"
   ]
  },
  {
   "cell_type": "code",
   "execution_count": 74,
   "metadata": {},
   "outputs": [
    {
     "name": "stdout",
     "output_type": "stream",
     "text": [
      "Welcome to Treasure Island.\n",
      "Your mission is to find the treasure.\n",
      "\n",
      "Stage # 01\n",
      "You're at a cross road. Where do you want to go? Type 'left' for left or 'right' for right.\n"
     ]
    },
    {
     "name": "stdout",
     "output_type": "stream",
     "text": [
      "Your choice left\n",
      "\n",
      "Stage # 02\n",
      "You've come to a lake. There is an island in the middle of the lake. Type 'wait' to wait for a boat. Type 'swim' to swim across.\n",
      "Your choice wait\n",
      "\n",
      "Stage # 03\n",
      "You've came to a door of 3 colors red, blue & yellow. Which one would you choose? Type 'red' for red, 'yelow' for yellow & 'green' for green door. \n",
      "Your choice yellow\n",
      "\n",
      "You Win!\n"
     ]
    }
   ],
   "source": [
    "print(\"Welcome to Treasure Island.\") \n",
    "print(\"Your mission is to find the treasure.\\n\")\n",
    "\n",
    "print(\"Stage # 01\")\n",
    "print(\"You're at a cross road. Where do you want to go? Type 'left' for left or 'right' for right.\")\n",
    "\n",
    "# For optimal/best case i.e everything goes right in order to win\n",
    "# First user choice\n",
    "choice1 = input(\"Enter your choice: \").lower()\n",
    "print(\"Your choice\", choice1)\n",
    "if choice1 == \"left\":\n",
    "    print(\"\\nStage # 02\")\n",
    "    print(\"You've come to a lake. There is an island in the middle of the lake. Type 'wait' to wait for a boat. Type 'swim' to swim across.\")\n",
    "    # Second user choice\n",
    "    choice2 = input(\"Enter your choice: \").lower()\n",
    "    print(\"Your choice\", choice2)\n",
    "    if choice2 == \"wait\":\n",
    "        print(\"\\nStage # 03\")\n",
    "        print(\"You've came to a door of 3 colors red, blue & yellow. Which one would you choose? Type 'red' for red, 'yelow' for yellow & 'green' for green door. \")\n",
    "        # Third user choice\n",
    "        choice3 = input(\"Enter your choice: \").lower()\n",
    "        print(\"Your choice\", choice3)\n",
    "        if choice3 == \"yellow\":\n",
    "            print(\"\\nYou Win!\")\n",
    "        # For worse case i.e if any of the user choice turns the game to be overed\n",
    "        elif choice3 == \"red\":\n",
    "            print(\"\\nBurned by fire.\\nGame Over.\")\n",
    "        elif choice3 == \"blue\":\n",
    "            print(\"\\nEaten by beasts.\\nGame Over.\")\n",
    "        else:\n",
    "            print(\"\\nGame Over\")\n",
    "    else:\n",
    "        print(\"\\nAttacked by trout.\\nGame Over.\")\n",
    "else:\n",
    "    print(\"\\nFall into a hole.\\nGame Over.\")\n"
   ]
  }
 ],
 "metadata": {
  "kernelspec": {
   "display_name": "Python 3",
   "language": "python",
   "name": "python3"
  },
  "language_info": {
   "codemirror_mode": {
    "name": "ipython",
    "version": 3
   },
   "file_extension": ".py",
   "mimetype": "text/x-python",
   "name": "python",
   "nbconvert_exporter": "python",
   "pygments_lexer": "ipython3",
   "version": "3.10.0"
  }
 },
 "nbformat": 4,
 "nbformat_minor": 2
}
