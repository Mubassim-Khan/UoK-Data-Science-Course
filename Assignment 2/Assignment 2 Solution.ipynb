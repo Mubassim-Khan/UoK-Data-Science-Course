{
 "cells": [
  {
   "cell_type": "markdown",
   "metadata": {},
   "source": [
    "Initialized a list `word_list`"
   ]
  },
  {
   "cell_type": "code",
   "execution_count": 25,
   "metadata": {},
   "outputs": [],
   "source": [
    "word_list = [\"aardvark\", \"baboon\", \"camel\"]"
   ]
  },
  {
   "cell_type": "markdown",
   "metadata": {},
   "source": [
    "Added `stages`"
   ]
  },
  {
   "cell_type": "code",
   "execution_count": 26,
   "metadata": {},
   "outputs": [],
   "source": [
    "stages = [''' \n",
    "  +---+ \n",
    "  |   | \n",
    "  O   | \n",
    " /|\\  | \n",
    " / \\  | \n",
    "      | \n",
    "========= \n",
    "''', ''' \n",
    "  +---+ \n",
    "  |   | \n",
    "  O   | \n",
    " /|\\  | \n",
    " /    | \n",
    "      | \n",
    "========= \n",
    "''', ''' \n",
    "  +---+ \n",
    "  |   | \n",
    "  O   | \n",
    " /|\\  | \n",
    "      | \n",
    "      | \n",
    "========= \n",
    "''', ''' \n",
    "  +---+ \n",
    "  |   | \n",
    "  O   | \n",
    " /|   | \n",
    "      | \n",
    "      | \n",
    "=========''', ''' \n",
    "  +---+ \n",
    "  |   | \n",
    "  O   | \n",
    "  |   | \n",
    "      | \n",
    "      | \n",
    "========= \n",
    "''', ''' \n",
    "  +---+ \n",
    "  |   | \n",
    "  O   | \n",
    "      | \n",
    "      | \n",
    "      | \n",
    "========= \n",
    "''', ''' \n",
    "  +---+ \n",
    "  |   | \n",
    "      | \n",
    "      | \n",
    "      | \n",
    "      | \n",
    "========= \n",
    "'''] "
   ]
  },
  {
   "cell_type": "markdown",
   "metadata": {},
   "source": [
    "Imported `random` module"
   ]
  },
  {
   "cell_type": "code",
   "execution_count": 57,
   "metadata": {},
   "outputs": [],
   "source": [
    "import random"
   ]
  },
  {
   "cell_type": "markdown",
   "metadata": {},
   "source": [
    "Chose a random word from `word_list`"
   ]
  },
  {
   "cell_type": "code",
   "execution_count": 39,
   "metadata": {},
   "outputs": [
    {
     "name": "stdout",
     "output_type": "stream",
     "text": [
      "Chosen word is: aardvark\n"
     ]
    }
   ],
   "source": [
    "chosen_word = random.choice(word_list)\n",
    "print(\"Chosen word is: {}\".format(chosen_word))"
   ]
  },
  {
   "cell_type": "markdown",
   "metadata": {},
   "source": [
    "Display a list, with `'_'` equal number of characters in `chosen_word`  "
   ]
  },
  {
   "cell_type": "code",
   "execution_count": 59,
   "metadata": {},
   "outputs": [],
   "source": [
    "display=[]\n",
    "for char in chosen_word:\n",
    "    display.append('_')"
   ]
  },
  {
   "cell_type": "code",
   "execution_count": 60,
   "metadata": {},
   "outputs": [],
   "source": [
    "lives = 6"
   ]
  },
  {
   "cell_type": "markdown",
   "metadata": {},
   "source": [
    "Logical Block of code execution"
   ]
  },
  {
   "cell_type": "code",
   "execution_count": 61,
   "metadata": {},
   "outputs": [
    {
     "name": "stdout",
     "output_type": "stream",
     "text": [
      "Hangman Game\n",
      "['_', '_', '_', '_', '_', '_', '_', '_']\n",
      "['a', 'a', '_', '_', '_', 'a', '_', '_']\n",
      "Wrong Guess. Please Try Again\n",
      "Remaining lives: 5\n",
      " \n",
      "  +---+ \n",
      "  |   | \n",
      "  O   | \n",
      "      | \n",
      "      | \n",
      "      | \n",
      "========= \n",
      "\n",
      "['a', 'a', '_', '_', '_', 'a', '_', '_']\n",
      "['a', 'a', '_', '_', 'v', 'a', '_', '_']\n",
      "Already guessed the letter \n",
      " v\n",
      "['a', 'a', '_', '_', 'v', 'a', '_', '_']\n",
      "['a', 'a', '_', 'd', 'v', 'a', '_', '_']\n",
      "['a', 'a', '_', 'd', 'v', 'a', '_', 'k']\n",
      "['a', 'a', 'r', 'd', 'v', 'a', 'r', 'k']\n",
      "You Won.\n"
     ]
    }
   ],
   "source": [
    "print(\"Hangman Game\")\n",
    "\n",
    "while True:\n",
    "    # If '-' is not in display list, break the program with message.\n",
    "    if \"_\" not in display:\n",
    "        print(display)\n",
    "        print(\"You Won.\")\n",
    "        break\n",
    "    else:\n",
    "        print(display)\n",
    "        # Convert the guess letter into lowercase\n",
    "        guess = input(\"Guess a letter: \").lower()\n",
    "\n",
    "        ''' \n",
    "        If guess letter is inside chosen_word & not in \"display\" list, \n",
    "        then display that item, at same index as the chose_word's letter.\n",
    "        Else if the guess_letter is already chose by user, display a message. \n",
    "        '''\n",
    "         \n",
    "        if guess in chosen_word:\n",
    "            if guess not in display:\n",
    "                for item in range (len(chosen_word)):\n",
    "                    if chosen_word[item] == guess:\n",
    "                        display[item] = guess\n",
    "            else:\n",
    "                print(\"Already guessed the letter \\n\", guess)\n",
    "        else:\n",
    "            # If the number of lives are '0', break the program with message.\n",
    "            if lives == 0:\n",
    "                print(\"You LOST. \\nThe Actual word was {}\".format(chosen_word))\n",
    "                break\n",
    "            # If lives are greater than 0, then reduce lives by, show remaining lives & stages list\n",
    "            print(\"Wrong Guess. Please Try Again\")\n",
    "            lives -= 1\n",
    "            print(\"Remaining lives: {}\".format(lives))\n",
    "            print(stages[lives])\n",
    "\n",
    "    "
   ]
  }
 ],
 "metadata": {
  "kernelspec": {
   "display_name": "base",
   "language": "python",
   "name": "python3"
  },
  "language_info": {
   "codemirror_mode": {
    "name": "ipython",
    "version": 3
   },
   "file_extension": ".py",
   "mimetype": "text/x-python",
   "name": "python",
   "nbconvert_exporter": "python",
   "pygments_lexer": "ipython3",
   "version": "3.8.8"
  }
 },
 "nbformat": 4,
 "nbformat_minor": 2
}
